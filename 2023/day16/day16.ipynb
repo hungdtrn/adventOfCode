{
 "cells": [
  {
   "cell_type": "markdown",
   "metadata": {},
   "source": [
    "# Day 16 - Advent of Code\n",
    "\n",
    "## Requirement\n",
    "Imagine having a beam light passing through space containing mirrors and splitters. We need to determine the path of the light. The beam light can move in four direction: Upward (90 degree), Downward (-90 degree), Right (0 degree), Left (180 degree).\n",
    "We are given a 2D matrix containing three types of characters: empty space (.), mirrors (/ and \\), and splitters (| and -).\n",
    "- empty space (.) allow the light to go in the same direction\n",
    "- / and \\ reflect the light 90 degre, depending of the direction:\n",
    "  - Upward (90) + / --> Right (0)\n",
    "  - Upward (90) + \\ --> Left (180)\n",
    "  - Downward (-90) + / --> Left (-180)\n",
    "  - Downward (-90) + \\ --> Right (0)\n",
    "  - Left (180) + / --> Downward(-90)\n",
    "  - Left (180) + \\ --> Upward(90)\n",
    "  - Right (0) + / --> Upward (90)\n",
    "  - Right (0) + \\ --> Downward (-90)\n",
    "- If the light enounter the pointy end of the spliter (| or -), it will pass through the splitter.\n",
    "  - Example: a 0 degree or 180 degree beam light will pass through -, a 90 and -90 beam light will pass through |\n",
    "- If the light encouter the flat side of the spliter (| or -), it will split into half:\n",
    "  - If the beam moving left or right encounter |, it will split into two beams: one moving upward, one moving downward\n",
    "  - If the beam moving up or down encounter -, it will split into two beams: one moving left, one moving right\n",
    "\n",
    "We count the energized tile, which has at least one beam pass through it, reflect in it, split in it. \n",
    "In other word, we count the number of visited tile.\n",
    "\n",
    "## Algorithm\n",
    "- Define a mapping from a beam direction, and the matrix symbol to the next direction. \n",
    "- Have a queue to consider the beams. The queue start with the first beam, and we add new beams to the queue.\n",
    "- We track the path of each beam, and count the tiles visited by these tracks"
   ]
  },
  {
   "cell_type": "markdown",
   "metadata": {},
   "source": [
    "Read the data from the input file"
   ]
  },
  {
   "cell_type": "code",
   "execution_count": 22,
   "metadata": {},
   "outputs": [
    {
     "name": "stdout",
     "output_type": "stream",
     "text": [
      "110 110\n"
     ]
    }
   ],
   "source": [
    "from collections import deque\n",
    "input_path = \"day16.txt\"\n",
    "data = []\n",
    "with open(input_path, \"r\") as f:\n",
    "    lines = f.readlines()\n",
    "    for line in lines:\n",
    "        line = line.replace(\"\\n\", \"\").strip()   \n",
    "        if line:     \n",
    "            data.append(list(line))\n",
    "\n",
    "ROW, COL = len(data), len(data[0])\n",
    "print(ROW, COL)"
   ]
  },
  {
   "cell_type": "markdown",
   "metadata": {},
   "source": [
    "Define the mapping"
   ]
  },
  {
   "cell_type": "code",
   "execution_count": 23,
   "metadata": {},
   "outputs": [],
   "source": [
    "mapping = {\n",
    "    \"left\": {\n",
    "        \"/\": [\"down\"],\n",
    "        \"\\\\\": [\"up\"],\n",
    "        \"-\": [\"left\"],\n",
    "        \".\": [\"left\"],\n",
    "        \"|\": [\"up\", \"down\"]\n",
    "    },\n",
    "    \"right\": {\n",
    "        \"/\": [\"up\"],\n",
    "        \"\\\\\": [\"down\"],\n",
    "        \"-\": [\"right\"],\n",
    "        \".\": [\"right\"],\n",
    "        \"|\": [\"up\", \"down\"]\n",
    "\n",
    "    },\n",
    "    \"up\": {\n",
    "        \"/\": [\"right\"],\n",
    "        \"\\\\\": [\"left\"],\n",
    "        \"-\": [\"left\", \"right\"],\n",
    "        \".\": [\"up\"],\n",
    "        \"|\": [\"up\"]\n",
    "    },\n",
    "    \"down\": {\n",
    "        \"/\": [\"left\"],\n",
    "        \"\\\\\": [\"right\"],\n",
    "        \"-\": [\"left\", \"right\"],\n",
    "        \".\": [\"down\"],\n",
    "        \"|\": [\"down\"]\n",
    "    },\n",
    "}\n",
    "direction_coord = {\n",
    "    \"left\": [0, -1],\n",
    "    \"right\": [0, 1],\n",
    "    \"up\": [-1, 0],\n",
    "    \"down\": [1, 0],\n",
    "}"
   ]
  },
  {
   "cell_type": "markdown",
   "metadata": {},
   "source": [
    "Start the the first position, moving right, and consider the next direction based on the rule defined by the problem.\n",
    "\n",
    "We need to keep track of the visited node position and the direction, so that we don't visit a node with the same direction twice"
   ]
  },
  {
   "cell_type": "code",
   "execution_count": 24,
   "metadata": {},
   "outputs": [
    {
     "name": "stdout",
     "output_type": "stream",
     "text": [
      "6816\n"
     ]
    }
   ],
   "source": [
    "def count_genergized_tile(start=(0, 0), direction=\"right\"):\n",
    "    visited = {}\n",
    "    queue = deque([(start, direction)])\n",
    "    while queue:\n",
    "        (row, col), current_direction = queue.popleft()\n",
    "        if ((row, col), current_direction) in visited:\n",
    "            continue\n",
    "\n",
    "        visited[((row, col), current_direction)] = True\n",
    "        for next_direction in mapping[current_direction][data[row][col]]:\n",
    "            new_row = row + direction_coord[next_direction][0]\n",
    "            new_col = col + direction_coord[next_direction][1]\n",
    "            if 0 <= new_row < ROW and 0 <= new_col < COL:\n",
    "                queue.append(((new_row, new_col), next_direction))\n",
    "    return len(set([key[0] for key in visited.keys()]))\n",
    "print(count_genergized_tile())"
   ]
  },
  {
   "cell_type": "markdown",
   "metadata": {},
   "source": [
    "Time complexity: O(MxNxK), where M is the number of rows, N is the number of columns, and K is the number of directions\n",
    "\n",
    "Space compleixty: O(MxNxK)"
   ]
  },
  {
   "cell_type": "markdown",
   "metadata": {},
   "source": [
    "## Second problem\n",
    "- Now we can start at any position on the top, bottom, left, right of the matrix\n",
    "- Find the position with the maximum number of tile engergized. We get the maximum engergized tiles\n",
    "- We can use the same aglorithm for in the first problem for this problem, with the time complexity O(max(M,N)xNxMxK). This is still doable with the given input O(110x110x110x110x4) ~ O(10^8)"
   ]
  },
  {
   "cell_type": "code",
   "execution_count": 25,
   "metadata": {},
   "outputs": [
    {
     "name": "stdout",
     "output_type": "stream",
     "text": [
      "8163\n"
     ]
    }
   ],
   "source": [
    "ans = 0\n",
    "for row in range(ROW):\n",
    "    ans = max(ans, count_genergized_tile((row, 0), \"right\"))\n",
    "    ans = max(ans, count_genergized_tile((row, COL - 1), \"left\"))\n",
    "\n",
    "for col in range(COL):\n",
    "    ans = max(ans, count_genergized_tile((0, col), \"down\"))\n",
    "    ans = max(ans, count_genergized_tile((ROW - 1, col), \"up\"))\n",
    "print(ans)"
   ]
  },
  {
   "cell_type": "markdown",
   "metadata": {},
   "source": [
    "Can we optimize this algorithm further?\n",
    "Yes! There are only MxNxK possible combinations of position and direction. \n",
    "If the beam position and direction is in the cached => we don't need to consider it again. \n",
    "We maintain the maximum number of engerized tiles for each visitedn position. \n",
    "We only update the new position and direction\n"
   ]
  },
  {
   "cell_type": "code",
   "execution_count": 27,
   "metadata": {},
   "outputs": [
    {
     "name": "stdout",
     "output_type": "stream",
     "text": [
      "20121\n"
     ]
    }
   ],
   "source": []
  },
  {
   "cell_type": "code",
   "execution_count": null,
   "metadata": {},
   "outputs": [],
   "source": []
  }
 ],
 "metadata": {
  "kernelspec": {
   "display_name": "ml",
   "language": "python",
   "name": "python3"
  },
  "language_info": {
   "codemirror_mode": {
    "name": "ipython",
    "version": 3
   },
   "file_extension": ".py",
   "mimetype": "text/x-python",
   "name": "python",
   "nbconvert_exporter": "python",
   "pygments_lexer": "ipython3",
   "version": "3.9.13"
  },
  "orig_nbformat": 4
 },
 "nbformat": 4,
 "nbformat_minor": 2
}
