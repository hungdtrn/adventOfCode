{
 "cells": [
  {
   "cell_type": "markdown",
   "metadata": {},
   "source": [
    "# Day 17 - Advent of Code\n",
    "\n",
    "## Requirement\n",
    "We are given a 2D matrix containing \".\" (walkable) and \"#\" (obstacle).\n",
    "Find the number of \".\" that we can reach within K steps. This could be translated to find how many \".\" that we can reach within K steps.\n",
    "\n",
    "## Algorithm\n",
    "This is a classic breath first search algirthm. Starting at the root node, we will expand the search level by level\n"
   ]
  },
  {
   "cell_type": "code",
   "execution_count": 30,
   "metadata": {},
   "outputs": [
    {
     "name": "stdout",
     "output_type": "stream",
     "text": [
      "11 11\n"
     ]
    }
   ],
   "source": [
    "from collections import deque\n",
    "import sys\n",
    "sys.setrecursionlimit(10000)\n",
    "\n",
    "input_path = \"demo.txt\"\n",
    "data = []\n",
    "with open(input_path, \"r\") as f:\n",
    "    lines = f.readlines()\n",
    "    for line in lines:\n",
    "        line = line.replace(\"\\n\", \"\").strip()   \n",
    "        if line:     \n",
    "            data.append(list(line))\n",
    "\n",
    "ROW, COL = len(data), len(data[0])\n",
    "print(ROW, COL)"
   ]
  },
  {
   "cell_type": "markdown",
   "metadata": {},
   "source": [
    "Find the starting position"
   ]
  },
  {
   "cell_type": "code",
   "execution_count": 31,
   "metadata": {},
   "outputs": [
    {
     "name": "stdout",
     "output_type": "stream",
     "text": [
      "16\n"
     ]
    }
   ],
   "source": [
    "nodes = []\n",
    "for row in range(ROW):\n",
    "    for col in range(COL):\n",
    "        if data[row][col] == \"S\":\n",
    "            nodes.append((row, col))\n",
    "\n",
    "K=6\n",
    "distance = 0\n",
    "directions = [[0, 1], [0, -1], [1, 0], [-1, 0]]\n",
    "odd, even = set(), set()\n",
    "while nodes and distance < K:\n",
    "    new_nodes = []\n",
    "    considered = set()\n",
    "    if distance % 2 == 0:\n",
    "        current, next_set = even, odd\n",
    "    else:\n",
    "        current, next_set = odd, even\n",
    "\n",
    "    for _ in range(len(nodes)):\n",
    "        current_node = nodes.pop()\n",
    "        for drow, dcol in directions:\n",
    "            new_row, new_col = current_node[0] + drow, current_node[1] + dcol\n",
    "            if new_row < 0 or new_row >= ROW or new_col < 0 or new_col >= COL:\n",
    "                continue\n",
    "\n",
    "            if data[new_row][new_col] != \"#\" and (new_row, new_col) not in next_set:\n",
    "                considered.add((new_row, new_col))\n",
    "                next_set.add((new_row, new_col))\n",
    "    \n",
    "\n",
    "    distance += 1\n",
    "    nodes = list(considered)\n",
    "\n",
    "if K % 2 == 0:\n",
    "    print(len(even))\n",
    "else:\n",
    "    print(len(odd))\n"
   ]
  },
  {
   "cell_type": "code",
   "execution_count": 45,
   "metadata": {},
   "outputs": [
    {
     "ename": "IndexError",
     "evalue": "list index out of range",
     "output_type": "error",
     "traceback": [
      "\u001b[0;31m---------------------------------------------------------------------------\u001b[0m",
      "\u001b[0;31mIndexError\u001b[0m                                Traceback (most recent call last)",
      "\u001b[1;32m/home/hung/Workspace/adventOfCode/2023/day22/day22_1.ipynb Cell 5\u001b[0m in \u001b[0;36m<cell line: 39>\u001b[0;34m()\u001b[0m\n\u001b[1;32m     <a href='vscode-notebook-cell:/home/hung/Workspace/adventOfCode/2023/day22/day22_1.ipynb#W4sZmlsZQ%3D%3D?line=37'>38</a>\u001b[0m nodes \u001b[39m=\u001b[39m {}\n\u001b[1;32m     <a href='vscode-notebook-cell:/home/hung/Workspace/adventOfCode/2023/day22/day22_1.ipynb#W4sZmlsZQ%3D%3D?line=38'>39</a>\u001b[0m \u001b[39mfor\u001b[39;00m row \u001b[39min\u001b[39;00m \u001b[39mrange\u001b[39m(ROW):\n\u001b[0;32m---> <a href='vscode-notebook-cell:/home/hung/Workspace/adventOfCode/2023/day22/day22_1.ipynb#W4sZmlsZQ%3D%3D?line=39'>40</a>\u001b[0m     nodes[(row, \u001b[39m0\u001b[39m)] \u001b[39m=\u001b[39m bfs((row, \u001b[39m0\u001b[39;49m))\n\u001b[1;32m     <a href='vscode-notebook-cell:/home/hung/Workspace/adventOfCode/2023/day22/day22_1.ipynb#W4sZmlsZQ%3D%3D?line=40'>41</a>\u001b[0m     nodes[(row, COL\u001b[39m-\u001b[39m\u001b[39m1\u001b[39m)] \u001b[39m=\u001b[39m bfs((row, COL\u001b[39m-\u001b[39m\u001b[39m1\u001b[39m))\n\u001b[1;32m     <a href='vscode-notebook-cell:/home/hung/Workspace/adventOfCode/2023/day22/day22_1.ipynb#W4sZmlsZQ%3D%3D?line=42'>43</a>\u001b[0m \u001b[39mfor\u001b[39;00m col \u001b[39min\u001b[39;00m \u001b[39mrange\u001b[39m(COL):\n",
      "\u001b[1;32m/home/hung/Workspace/adventOfCode/2023/day22/day22_1.ipynb Cell 5\u001b[0m in \u001b[0;36mbfs\u001b[0;34m(node)\u001b[0m\n\u001b[1;32m     <a href='vscode-notebook-cell:/home/hung/Workspace/adventOfCode/2023/day22/day22_1.ipynb#W4sZmlsZQ%3D%3D?line=18'>19</a>\u001b[0m \u001b[39mif\u001b[39;00m new_row \u001b[39m<\u001b[39m \u001b[39m0\u001b[39m \u001b[39mor\u001b[39;00m new_row \u001b[39m>\u001b[39m\u001b[39m=\u001b[39m ROW \u001b[39mor\u001b[39;00m new_col \u001b[39m<\u001b[39m \u001b[39m0\u001b[39m \u001b[39mor\u001b[39;00m new_col \u001b[39m>\u001b[39m\u001b[39m=\u001b[39m COL:\n\u001b[1;32m     <a href='vscode-notebook-cell:/home/hung/Workspace/adventOfCode/2023/day22/day22_1.ipynb#W4sZmlsZQ%3D%3D?line=19'>20</a>\u001b[0m     distances\u001b[39m.\u001b[39mappend((distance, \u001b[39mlen\u001b[39m(next_set), (new_row, new_col)))\n\u001b[0;32m---> <a href='vscode-notebook-cell:/home/hung/Workspace/adventOfCode/2023/day22/day22_1.ipynb#W4sZmlsZQ%3D%3D?line=21'>22</a>\u001b[0m \u001b[39mif\u001b[39;00m data[new_row][new_col] \u001b[39m!=\u001b[39m \u001b[39m\"\u001b[39m\u001b[39m#\u001b[39m\u001b[39m\"\u001b[39m \u001b[39mand\u001b[39;00m (new_row, new_col) \u001b[39mnot\u001b[39;00m \u001b[39min\u001b[39;00m next_set:\n\u001b[1;32m     <a href='vscode-notebook-cell:/home/hung/Workspace/adventOfCode/2023/day22/day22_1.ipynb#W4sZmlsZQ%3D%3D?line=22'>23</a>\u001b[0m     considered\u001b[39m.\u001b[39madd((new_row, new_col))\n\u001b[1;32m     <a href='vscode-notebook-cell:/home/hung/Workspace/adventOfCode/2023/day22/day22_1.ipynb#W4sZmlsZQ%3D%3D?line=23'>24</a>\u001b[0m     next_set\u001b[39m.\u001b[39madd((new_row, new_col))\n",
      "\u001b[0;31mIndexError\u001b[0m: list index out of range"
     ]
    }
   ],
   "source": [
    "start_node = None\n",
    "for row in range(ROW):\n",
    "    for col in range(COL):\n",
    "        if data[row][col] == \"S\":\n",
    "            start_node = (row, col)\n",
    "\n",
    "def bfs(node):\n",
    "    nodes = [node]\n",
    "    distance = 0\n",
    "    directions = [[0, 1], [0, -1], [1, 0], [-1, 0]]\n",
    "    current_set, next_set = set(), set()\n",
    "    distances = []\n",
    "    while nodes:\n",
    "        considered = set()\n",
    "        for i in range(len(nodes)):\n",
    "            current_node = nodes[i]\n",
    "            for drow, dcol in directions:\n",
    "                new_row, new_col = current_node[0] + drow, current_node[1] + dcol\n",
    "                if new_row < 0 or new_row >= ROW or new_col < 0 or new_col >= COL:\n",
    "                    row_offset, col_offset = 0, 0\n",
    "                    if new_row < 0:\n",
    "                        new_row = ROW - 1\n",
    "                        row_offset = -1\n",
    "                    elif new_row >= ROW:\n",
    "                        new_row = 0\n",
    "                        row_offset = 1\n",
    "                    \n",
    "                    if new_col < 0:\n",
    "                        new_col = COL - 1\n",
    "                        col_offset = -1\n",
    "                    elif new_col >= COL:\n",
    "                        new_col = 0\n",
    "                        col_offset = 1\n",
    "                    \n",
    "                    data[new_row][new_col] != \"#\":\n",
    "                        distances.append((distance, len(next_set), (new_row, new_col)))\n",
    "                    continue\n",
    "\n",
    "                if data[new_row][new_col] != \"#\" and (new_row, new_col) not in next_set:\n",
    "                    considered.add((new_row, new_col))\n",
    "                    next_set.add((new_row, new_col))\n",
    "        \n",
    "        for i in range(len(nodes)):\n",
    "            current_node = nodes[i]\n",
    "            if current_node == node:\n",
    "                continue\n",
    "\n",
    "            \n",
    "\n",
    "        distance += 1\n",
    "        current_set, next_set = next_set, current_set\n",
    "        nodes = list(considered)\n",
    "    return even, odd, distances\n",
    "\n",
    "nodes = {}\n",
    "for row in range(ROW):\n",
    "    nodes[(row, 0)] = bfs((row, 0))\n",
    "    nodes[(row, COL-1)] = bfs((row, COL-1))\n",
    "\n",
    "for col in range(COL):\n",
    "    nodes[(0, col)] = bfs((0, col))\n",
    "    nodes[(ROW-1, col)] = bfs((ROW-1, col))\n",
    "\n",
    "nodes[start_node] = bfs(start_node)"
   ]
  },
  {
   "cell_type": "code",
   "execution_count": 41,
   "metadata": {},
   "outputs": [],
   "source": [
    "# nodes[start_node][-1]"
   ]
  },
  {
   "cell_type": "code",
   "execution_count": 44,
   "metadata": {},
   "outputs": [
    {
     "name": "stdout",
     "output_type": "stream",
     "text": [
      "[(6, 16, 21, (4, 0), (0, 0)), (7, 21, 25, (7, 0), (0, 0)), (7, 21, 25, (3, 0), (0, 0)), (7, 21, 25, (5, 0), (0, 0)), (7, 21, 25, (10, 3), (0, 0)), (8, 25, 29, (4, 10), (0, 0)), (8, 25, 29, (10, 4), (0, 0)), (8, 25, 29, (2, 0), (0, 0)), (8, 25, 29, (8, 0), (0, 0)), (8, 25, 29, (6, 0), (0, 0)), (8, 25, 29, (0, 8), (0, 0)), (8, 25, 29, (10, 2), (0, 0)), (9, 29, 33, (0, 7), (0, 0)), (9, 29, 33, (9, 0), (0, 0)), (9, 29, 33, (10, 5), (0, 0)), (9, 29, 33, (0, 9), (0, 0)), (9, 29, 33, (3, 10), (0, 0)), (9, 29, 33, (10, 1), (0, 0)), (9, 29, 33, (5, 10), (0, 0)), (9, 29, 33, (1, 0), (0, 0)), (10, 33, 35, (0, 10), (0, 0)), (10, 33, 35, (0, 0), (0, 0)), (10, 33, 35, (2, 10), (0, 0)), (10, 33, 35, (0, 6), (0, 0)), (10, 33, 35, (10, 0), (0, 0)), (10, 33, 35, (10, 6), (0, 0)), (10, 33, 35, (6, 10), (0, 0)), (11, 35, 40, (0, 1), (0, 0)), (11, 35, 40, (7, 10), (0, 0)), (11, 35, 40, (10, 7), (0, 0)), (11, 35, 40, (1, 10), (0, 0)), (11, 35, 40, (0, 5), (0, 0)), (12, 40, 39, (0, 4), (0, 0)), (12, 40, 39, (10, 8), (0, 0)), (12, 40, 39, (8, 10), (0, 0)), (12, 40, 39, (0, 2), (0, 0)), (13, 39, 42, (10, 9), (0, 0)), (13, 39, 42, (9, 10), (0, 0)), (13, 39, 42, (0, 3), (0, 0)), (14, 42, 39, (10, 10), (0, 0))]\n"
     ]
    },
    {
     "ename": "ValueError",
     "evalue": "too many values to unpack (expected 4)",
     "output_type": "error",
     "traceback": [
      "\u001b[0;31m---------------------------------------------------------------------------\u001b[0m",
      "\u001b[0;31mValueError\u001b[0m                                Traceback (most recent call last)",
      "\u001b[1;32m/home/hung/Workspace/adventOfCode/2023/day22/day22_1.ipynb Cell 7\u001b[0m in \u001b[0;36m<cell line: 9>\u001b[0;34m()\u001b[0m\n\u001b[1;32m      <a href='vscode-notebook-cell:/home/hung/Workspace/adventOfCode/2023/day22/day22_1.ipynb#X11sZmlsZQ%3D%3D?line=7'>8</a>\u001b[0m \u001b[39mwhile\u001b[39;00m \u001b[39mTrue\u001b[39;00m:\n\u001b[1;32m      <a href='vscode-notebook-cell:/home/hung/Workspace/adventOfCode/2023/day22/day22_1.ipynb#X11sZmlsZQ%3D%3D?line=8'>9</a>\u001b[0m     current_node \u001b[39m=\u001b[39m heapq\u001b[39m.\u001b[39mheappop(distances)\n\u001b[0;32m---> <a href='vscode-notebook-cell:/home/hung/Workspace/adventOfCode/2023/day22/day22_1.ipynb#X11sZmlsZQ%3D%3D?line=10'>11</a>\u001b[0m     new_steps, tmp_current_cnt, (current_row, current_col), (current_row_idx, current_col_idx) \u001b[39m=\u001b[39m current_node\n\u001b[1;32m     <a href='vscode-notebook-cell:/home/hung/Workspace/adventOfCode/2023/day22/day22_1.ipynb#X11sZmlsZQ%3D%3D?line=11'>12</a>\u001b[0m     \u001b[39mif\u001b[39;00m new_steps \u001b[39m>\u001b[39m K:\n\u001b[1;32m     <a href='vscode-notebook-cell:/home/hung/Workspace/adventOfCode/2023/day22/day22_1.ipynb#X11sZmlsZQ%3D%3D?line=12'>13</a>\u001b[0m         \u001b[39mbreak\u001b[39;00m\n",
      "\u001b[0;31mValueError\u001b[0m: too many values to unpack (expected 4)"
     ]
    }
   ],
   "source": [
    "import heapq\n",
    "distances = nodes[start_node][-1]\n",
    "visited = {}\n",
    "current_cnt = 0\n",
    "current_steps = 0\n",
    "distances = [(*d, (0, 0)) for d in distances]\n",
    "print(distances)\n",
    "while True:\n",
    "    current_node = heapq.heappop(distances)\n",
    "\n",
    "    new_steps, tmp_current_cnt, (current_row, current_col), (current_row_idx, current_col_idx) = current_node\n",
    "    if new_steps > K:\n",
    "        break\n",
    "\n",
    "    current_cnt += tmp_current_cnt\n",
    "    \n",
    "    if current_row < 0:\n",
    "        new_row_idx = current_col_idx - 1\n",
    "        current_row = ROW - 1\n",
    "    elif current_row > ROW-1:\n",
    "        new_row_idx = current_col_idx + 1\n",
    "        current_row = 0\n",
    "    \n",
    "    if current_col < 0:\n",
    "        new_col_idx = current_row_idx - 1\n",
    "        current_col = COL - 1\n",
    "    elif current_col > COL-1:\n",
    "        new_col_idx = current_row_idx + 1\n",
    "        current_col = 0\n",
    "    \n",
    "    if ((new_row_idx, new_col_idx), (current_row, current_col)) in visited:\n",
    "        continue\n",
    "\n",
    "    visited[(new_row_idx, new_col_idx), (current_row, current_col)] = True\n",
    "\n",
    "    neighbours = nodes[(current_row, current_col)][-1]\n",
    "\n",
    "\n",
    "    for next_steps, tmp_next_cnt, (new_row, new_col) in neighbours:\n",
    "        heapq.heappush(distances, (current_steps + next_steps, tmp_next_cnt, (new_row, new_col), (new_row_idx, new_col_idx)))\n",
    "\n",
    "print(current_steps, new_steps)"
   ]
  },
  {
   "cell_type": "code",
   "execution_count": 5,
   "metadata": {},
   "outputs": [],
   "source": [
    "def bfs(node):\n",
    "    nodes = [node]\n",
    "    distance = 0\n",
    "    while nodes:\n",
    "        new_nodes = []\n",
    "        considered = set()\n",
    "        for _ in range(len(nodes)):\n",
    "            current_node = nodes.pop()\n",
    "            for drow, dcol in directions:\n",
    "                new_row, new_col = current_node[0] + drow, current_node[1] + dcol\n",
    "                if new_row < 0 or new_row >= ROW or new_col < 0 or new_col >= COL:\n",
    "                    continue\n",
    "\n",
    "                if data[new_row][new_col] != \"#\" and (new_row, new_col) not in considered:\n",
    "                    considered.add((new_row, new_col))\n",
    "        \n",
    "        distance += 1\n",
    "        nodes = list(considered)"
   ]
  },
  {
   "cell_type": "code",
   "execution_count": 6,
   "metadata": {},
   "outputs": [
    {
     "name": "stdout",
     "output_type": "stream",
     "text": [
      "2306\n"
     ]
    }
   ],
   "source": [
    "nodes = []\n",
    "for row in range(ROW):\n",
    "    for col in range(COL):\n",
    "        if data[row][col] == \"S\":\n",
    "            nodes.append(((0, 0), (row, col)))\n",
    "\n",
    "K=50\n",
    "distance = 0\n",
    "border_set_odd, border_set_even = set(), set()\n",
    "directions = [[0, 1], [0, -1], [1, 0], [-1, 0]]\n",
    "while nodes and distance < K:\n",
    "    new_nodes = []\n",
    "    considered = set()\n",
    "    if distance % 2 == 0:\n",
    "        border_set = border_set_even\n",
    "    else:\n",
    "        border_set = border_set_odd\n",
    "\n",
    "\n",
    "    cnt = len(border_set)\n",
    "    for _ in range(len(nodes)):\n",
    "        (irow, icol), current_node = nodes.pop()\n",
    "\n",
    "        if ((irow, icol), current_node) in border_set:\n",
    "            continue\n",
    "\n",
    "        for drow, dcol in directions:\n",
    "            new_row, new_col = current_node[0] + drow, current_node[1] + dcol\n",
    "            new_irow, new_icol = irow, icol\n",
    "            is_border = False \n",
    "            if new_row < 0 or new_row >= ROW or new_col < 0 or new_col >= COL:\n",
    "                if new_row < 0:\n",
    "                    new_row = ROW - 1\n",
    "                    new_irow -= 1\n",
    "                elif new_row == ROW:\n",
    "                    new_row = 0\n",
    "                    new_irow += 1\n",
    "                \n",
    "                if new_col < 0:\n",
    "                    new_col = COL - 1\n",
    "                    new_icol -= 1\n",
    "                elif new_col == COL:\n",
    "                    new_col = 0\n",
    "                    new_icol += 1\n",
    "\n",
    "            if data[new_row][new_col] != \"#\":\n",
    "                considered.add(((new_irow, new_icol), (new_row, new_col)))\n",
    "\n",
    "        \n",
    "        if current_node[0] == 0 or current_node[0] == ROW - 1 or current_node[1] == 0 or current_node[1] == COL - 1:\n",
    "            border_set.add(((irow, icol), current_node))\n",
    "\n",
    "    for (irow, icol), current_node  in border_set:\n",
    "        for drow, dcol in directions:\n",
    "            new_row, new_col = current_node[0] + drow, current_node[1] + dcol\n",
    "            new_irow, new_icol = irow, icol\n",
    "            is_border = False \n",
    "            if new_row < 0 or new_row >= ROW or new_col < 0 or new_col >= COL:\n",
    "                if new_row < 0:\n",
    "                    new_row = ROW - 1\n",
    "                    new_irow -= 1\n",
    "                elif new_row == ROW:\n",
    "                    new_row = 0\n",
    "                    new_irow += 1\n",
    "                \n",
    "                if new_col < 0:\n",
    "                    new_col = COL - 1\n",
    "                    new_icol -= 1\n",
    "                elif new_col == COL:\n",
    "                    new_col = 0\n",
    "                    new_icol += 1\n",
    "\n",
    "            if data[new_row][new_col] != \"#\":\n",
    "                considered.add(((new_irow, new_icol), (new_row, new_col)))        \n",
    "\n",
    "    \n",
    "\n",
    "    distance += 1\n",
    "    cnt += len(considered)\n",
    "    nodes = list(considered)\n",
    "\n",
    "print(cnt)\n",
    "        \n"
   ]
  },
  {
   "cell_type": "code",
   "execution_count": null,
   "metadata": {},
   "outputs": [],
   "source": []
  }
 ],
 "metadata": {
  "kernelspec": {
   "display_name": "ml",
   "language": "python",
   "name": "python3"
  },
  "language_info": {
   "codemirror_mode": {
    "name": "ipython",
    "version": 3
   },
   "file_extension": ".py",
   "mimetype": "text/x-python",
   "name": "python",
   "nbconvert_exporter": "python",
   "pygments_lexer": "ipython3",
   "version": "3.9.13"
  },
  "orig_nbformat": 4
 },
 "nbformat": 4,
 "nbformat_minor": 2
}
